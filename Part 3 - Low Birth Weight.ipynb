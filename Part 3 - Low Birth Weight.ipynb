{
 "cells": [
  {
   "cell_type": "markdown",
   "id": "51b1898c",
   "metadata": {},
   "source": [
    "# BUILDING A MACHINE LEARNING MODEL\n",
    "\n",
    "This is the third and final part of the analysis of my low birth weight dataset. The dataset has already been cleaned, new featues created, and the data statistically explored and analyzed. This notebook will primarily deal with building a machine learning model to predict the likelihood of a woman deliverying a low birth wright baby. "
   ]
  },
  {
   "cell_type": "markdown",
   "id": "6d597265",
   "metadata": {},
   "source": [
    "***To do:***\n",
    "* Importing and preprocessing the data for our machine learning model \n",
    "* Normalizing both quantitative and qualitative columns (one-hot encoded)\n",
    "* Build the model\n",
    "* Test and evaluate the model"
   ]
  },
  {
   "cell_type": "markdown",
   "id": "97627415",
   "metadata": {},
   "source": [
    "## Importing the dataset"
   ]
  },
  {
   "cell_type": "code",
   "execution_count": 2,
   "id": "255376ff",
   "metadata": {},
   "outputs": [],
   "source": [
    "import numpy as np\n",
    "import pandas as pd\n",
    "\n",
    "from sklearn.preprocessing import MinMaxScaler\n",
    "from sklearn.model_selection import train_test_split\n",
    "\n",
    "from sklearn.linear_model import LogisticRegression\n",
    "from sklearn.svm import SVC\n",
    "\n",
    "\n",
    "\n"
   ]
  },
  {
   "cell_type": "code",
   "execution_count": 3,
   "id": "049da6ac",
   "metadata": {},
   "outputs": [
    {
     "data": {
      "text/html": [
       "<div>\n",
       "<style scoped>\n",
       "    .dataframe tbody tr th:only-of-type {\n",
       "        vertical-align: middle;\n",
       "    }\n",
       "\n",
       "    .dataframe tbody tr th {\n",
       "        vertical-align: top;\n",
       "    }\n",
       "\n",
       "    .dataframe thead th {\n",
       "        text-align: right;\n",
       "    }\n",
       "</style>\n",
       "<table border=\"1\" class=\"dataframe\">\n",
       "  <thead>\n",
       "    <tr style=\"text-align: right;\">\n",
       "      <th></th>\n",
       "      <th>MATERNALAGE</th>\n",
       "      <th>LEVELOFEDUCATION</th>\n",
       "      <th>OCCUPATION</th>\n",
       "      <th>GRAVIDITY</th>\n",
       "      <th>PARITY</th>\n",
       "      <th>NO.ANTENALVISITS</th>\n",
       "      <th>HB_Delivery</th>\n",
       "      <th>HEPATITISBSTATUS</th>\n",
       "      <th>SYPHILLISSTATUS</th>\n",
       "      <th>RETROSTATUS</th>\n",
       "      <th>...</th>\n",
       "      <th>BABYLENGTH</th>\n",
       "      <th>HEADCIRCUMFERENCE</th>\n",
       "      <th>NICUADMISSION</th>\n",
       "      <th>RESPIRATORYDISTRESS</th>\n",
       "      <th>STILLBIRTH</th>\n",
       "      <th>IUGR</th>\n",
       "      <th>NEONATALOUTCOME</th>\n",
       "      <th>CAT_MATERNALAGE</th>\n",
       "      <th>CAT_GRAVIDITY</th>\n",
       "      <th>CAT_PARITY</th>\n",
       "    </tr>\n",
       "  </thead>\n",
       "  <tbody>\n",
       "    <tr>\n",
       "      <th>0</th>\n",
       "      <td>18.0</td>\n",
       "      <td>Secondary</td>\n",
       "      <td>Self employed</td>\n",
       "      <td>1.0</td>\n",
       "      <td>0.0</td>\n",
       "      <td>11.000000</td>\n",
       "      <td>10.598487</td>\n",
       "      <td>Non Reactive</td>\n",
       "      <td>Non Reactive</td>\n",
       "      <td>Non Reactive</td>\n",
       "      <td>...</td>\n",
       "      <td>49.210993</td>\n",
       "      <td>33.162943</td>\n",
       "      <td>No</td>\n",
       "      <td>No</td>\n",
       "      <td>No</td>\n",
       "      <td>No</td>\n",
       "      <td>Alive</td>\n",
       "      <td>0-20</td>\n",
       "      <td>1-1</td>\n",
       "      <td>0-0</td>\n",
       "    </tr>\n",
       "    <tr>\n",
       "      <th>1</th>\n",
       "      <td>31.0</td>\n",
       "      <td>Illiterate</td>\n",
       "      <td>Unemployed</td>\n",
       "      <td>3.0</td>\n",
       "      <td>2.0</td>\n",
       "      <td>7.113177</td>\n",
       "      <td>10.598487</td>\n",
       "      <td>Non Reactive</td>\n",
       "      <td>Non Reactive</td>\n",
       "      <td>Non Reactive</td>\n",
       "      <td>...</td>\n",
       "      <td>54.000000</td>\n",
       "      <td>33.000000</td>\n",
       "      <td>No</td>\n",
       "      <td>Yes</td>\n",
       "      <td>No</td>\n",
       "      <td>No</td>\n",
       "      <td>Alive</td>\n",
       "      <td>21-35</td>\n",
       "      <td>3-9</td>\n",
       "      <td>2-9</td>\n",
       "    </tr>\n",
       "    <tr>\n",
       "      <th>2</th>\n",
       "      <td>20.0</td>\n",
       "      <td>Secondary</td>\n",
       "      <td>Unemployed</td>\n",
       "      <td>2.0</td>\n",
       "      <td>0.0</td>\n",
       "      <td>4.000000</td>\n",
       "      <td>10.900000</td>\n",
       "      <td>Non Reactive</td>\n",
       "      <td>Non Reactive</td>\n",
       "      <td>Non Reactive</td>\n",
       "      <td>...</td>\n",
       "      <td>49.210993</td>\n",
       "      <td>33.162943</td>\n",
       "      <td>No</td>\n",
       "      <td>No</td>\n",
       "      <td>No</td>\n",
       "      <td>No</td>\n",
       "      <td>Alive</td>\n",
       "      <td>0-20</td>\n",
       "      <td>2-2</td>\n",
       "      <td>0-0</td>\n",
       "    </tr>\n",
       "    <tr>\n",
       "      <th>3</th>\n",
       "      <td>19.0</td>\n",
       "      <td>Secondary</td>\n",
       "      <td>Self employed</td>\n",
       "      <td>1.0</td>\n",
       "      <td>0.0</td>\n",
       "      <td>2.000000</td>\n",
       "      <td>8.600000</td>\n",
       "      <td>Non Reactive</td>\n",
       "      <td>Non Reactive</td>\n",
       "      <td>Non Reactive</td>\n",
       "      <td>...</td>\n",
       "      <td>49.000000</td>\n",
       "      <td>30.000000</td>\n",
       "      <td>No</td>\n",
       "      <td>No</td>\n",
       "      <td>No</td>\n",
       "      <td>No</td>\n",
       "      <td>Alive</td>\n",
       "      <td>0-20</td>\n",
       "      <td>1-1</td>\n",
       "      <td>0-0</td>\n",
       "    </tr>\n",
       "    <tr>\n",
       "      <th>4</th>\n",
       "      <td>32.0</td>\n",
       "      <td>Tertiary</td>\n",
       "      <td>Civil Servant</td>\n",
       "      <td>4.0</td>\n",
       "      <td>3.0</td>\n",
       "      <td>8.000000</td>\n",
       "      <td>11.500000</td>\n",
       "      <td>Non Reactive</td>\n",
       "      <td>Non Reactive</td>\n",
       "      <td>Non Reactive</td>\n",
       "      <td>...</td>\n",
       "      <td>45.000000</td>\n",
       "      <td>35.000000</td>\n",
       "      <td>No</td>\n",
       "      <td>No</td>\n",
       "      <td>No</td>\n",
       "      <td>No</td>\n",
       "      <td>Alive</td>\n",
       "      <td>21-35</td>\n",
       "      <td>3-9</td>\n",
       "      <td>2-9</td>\n",
       "    </tr>\n",
       "  </tbody>\n",
       "</table>\n",
       "<p>5 rows × 39 columns</p>\n",
       "</div>"
      ],
      "text/plain": [
       "   MATERNALAGE LEVELOFEDUCATION     OCCUPATION  GRAVIDITY  PARITY  \\\n",
       "0         18.0        Secondary  Self employed        1.0     0.0   \n",
       "1         31.0       Illiterate     Unemployed        3.0     2.0   \n",
       "2         20.0        Secondary     Unemployed        2.0     0.0   \n",
       "3         19.0        Secondary  Self employed        1.0     0.0   \n",
       "4         32.0         Tertiary  Civil Servant        4.0     3.0   \n",
       "\n",
       "   NO.ANTENALVISITS  HB_Delivery HEPATITISBSTATUS SYPHILLISSTATUS  \\\n",
       "0         11.000000    10.598487     Non Reactive    Non Reactive   \n",
       "1          7.113177    10.598487     Non Reactive    Non Reactive   \n",
       "2          4.000000    10.900000     Non Reactive    Non Reactive   \n",
       "3          2.000000     8.600000     Non Reactive    Non Reactive   \n",
       "4          8.000000    11.500000     Non Reactive    Non Reactive   \n",
       "\n",
       "    RETROSTATUS  ... BABYLENGTH  HEADCIRCUMFERENCE NICUADMISSION  \\\n",
       "0  Non Reactive  ...  49.210993          33.162943            No   \n",
       "1  Non Reactive  ...  54.000000          33.000000            No   \n",
       "2  Non Reactive  ...  49.210993          33.162943            No   \n",
       "3  Non Reactive  ...  49.000000          30.000000            No   \n",
       "4  Non Reactive  ...  45.000000          35.000000            No   \n",
       "\n",
       "  RESPIRATORYDISTRESS  STILLBIRTH  IUGR  NEONATALOUTCOME  CAT_MATERNALAGE  \\\n",
       "0                  No          No    No            Alive             0-20   \n",
       "1                 Yes          No    No            Alive            21-35   \n",
       "2                  No          No    No            Alive             0-20   \n",
       "3                  No          No    No            Alive             0-20   \n",
       "4                  No          No    No            Alive            21-35   \n",
       "\n",
       "  CAT_GRAVIDITY CAT_PARITY  \n",
       "0           1-1        0-0  \n",
       "1           3-9        2-9  \n",
       "2           2-2        0-0  \n",
       "3           1-1        0-0  \n",
       "4           3-9        2-9  \n",
       "\n",
       "[5 rows x 39 columns]"
      ]
     },
     "execution_count": 3,
     "metadata": {},
     "output_type": "execute_result"
    }
   ],
   "source": [
    "df = pd.read_csv('Cleaned2 - Low Birth Weight.csv')\n",
    "df.head()"
   ]
  },
  {
   "cell_type": "markdown",
   "id": "3cd694b2",
   "metadata": {},
   "source": [
    "## Preprocessing data for machine learning model\n",
    "\n",
    "Let's get rid of some columns, namely 'NICUADMISSION', 'RESPIRATORYDISTRESS', 'STILLBIRTH', 'IUGR'\n",
    "These columns are taken after the birth of a child, and cannot be used to predict LBW\n",
    "\n",
    "Other numerical columns we need to get rid of include: 'SBPAFTERDELIVERY', 'DBPAFTERDELIVERY', 'BIRTHWEIGHT', 'APGARAT1MIN', 'APGARAT5MIN', 'BABYLENGTH', 'HEADCIRCUMFERENCE'. \n",
    "These recordings are also taken after the birth of a child, and cannot be used to predict LBW.\n"
   ]
  },
  {
   "cell_type": "code",
   "execution_count": 4,
   "id": "35a1d3b8",
   "metadata": {},
   "outputs": [],
   "source": [
    "df = df.drop(columns=[\n",
    "    'NICUADMISSION', 'RESPIRATORYDISTRESS', 'STILLBIRTH', 'IUGR', 'LBW',\n",
    "    'SBPAFTERDELIVERY', 'DBPAFTERDELIVERY', 'BIRTHWEIGHT', 'APGARAT1MIN',\n",
    "    'APGARAT5MIN', 'BABYLENGTH', 'HEADCIRCUMFERENCE'\n",
    "])\n"
   ]
  },
  {
   "cell_type": "code",
   "execution_count": 5,
   "id": "847a1ce2",
   "metadata": {},
   "outputs": [
    {
     "data": {
      "text/html": [
       "<div>\n",
       "<style scoped>\n",
       "    .dataframe tbody tr th:only-of-type {\n",
       "        vertical-align: middle;\n",
       "    }\n",
       "\n",
       "    .dataframe tbody tr th {\n",
       "        vertical-align: top;\n",
       "    }\n",
       "\n",
       "    .dataframe thead th {\n",
       "        text-align: right;\n",
       "    }\n",
       "</style>\n",
       "<table border=\"1\" class=\"dataframe\">\n",
       "  <thead>\n",
       "    <tr style=\"text-align: right;\">\n",
       "      <th></th>\n",
       "      <th>MATERNALAGE</th>\n",
       "      <th>LEVELOFEDUCATION</th>\n",
       "      <th>OCCUPATION</th>\n",
       "      <th>GRAVIDITY</th>\n",
       "      <th>PARITY</th>\n",
       "      <th>NO.ANTENALVISITS</th>\n",
       "      <th>HB_Delivery</th>\n",
       "      <th>HEPATITISBSTATUS</th>\n",
       "      <th>SYPHILLISSTATUS</th>\n",
       "      <th>RETROSTATUS</th>\n",
       "      <th>...</th>\n",
       "      <th>AntepartumHemorrhage</th>\n",
       "      <th>Postpartumhemorrhage</th>\n",
       "      <th>ECLAMPSIA</th>\n",
       "      <th>SEVEREPREECLAMPSIA</th>\n",
       "      <th>BABYSEX</th>\n",
       "      <th>LOWBIRTHWEIGHT</th>\n",
       "      <th>NEONATALOUTCOME</th>\n",
       "      <th>CAT_MATERNALAGE</th>\n",
       "      <th>CAT_GRAVIDITY</th>\n",
       "      <th>CAT_PARITY</th>\n",
       "    </tr>\n",
       "  </thead>\n",
       "  <tbody>\n",
       "    <tr>\n",
       "      <th>0</th>\n",
       "      <td>18.0</td>\n",
       "      <td>Secondary</td>\n",
       "      <td>Self employed</td>\n",
       "      <td>1.0</td>\n",
       "      <td>0.0</td>\n",
       "      <td>11.000000</td>\n",
       "      <td>10.598487</td>\n",
       "      <td>Non Reactive</td>\n",
       "      <td>Non Reactive</td>\n",
       "      <td>Non Reactive</td>\n",
       "      <td>...</td>\n",
       "      <td>No</td>\n",
       "      <td>No</td>\n",
       "      <td>No</td>\n",
       "      <td>No</td>\n",
       "      <td>Male</td>\n",
       "      <td>Normal Birth Weight</td>\n",
       "      <td>Alive</td>\n",
       "      <td>0-20</td>\n",
       "      <td>1-1</td>\n",
       "      <td>0-0</td>\n",
       "    </tr>\n",
       "    <tr>\n",
       "      <th>1</th>\n",
       "      <td>31.0</td>\n",
       "      <td>Illiterate</td>\n",
       "      <td>Unemployed</td>\n",
       "      <td>3.0</td>\n",
       "      <td>2.0</td>\n",
       "      <td>7.113177</td>\n",
       "      <td>10.598487</td>\n",
       "      <td>Non Reactive</td>\n",
       "      <td>Non Reactive</td>\n",
       "      <td>Non Reactive</td>\n",
       "      <td>...</td>\n",
       "      <td>No</td>\n",
       "      <td>No</td>\n",
       "      <td>No</td>\n",
       "      <td>No</td>\n",
       "      <td>Male</td>\n",
       "      <td>Normal Birth Weight</td>\n",
       "      <td>Alive</td>\n",
       "      <td>21-35</td>\n",
       "      <td>3-9</td>\n",
       "      <td>2-9</td>\n",
       "    </tr>\n",
       "    <tr>\n",
       "      <th>2</th>\n",
       "      <td>20.0</td>\n",
       "      <td>Secondary</td>\n",
       "      <td>Unemployed</td>\n",
       "      <td>2.0</td>\n",
       "      <td>0.0</td>\n",
       "      <td>4.000000</td>\n",
       "      <td>10.900000</td>\n",
       "      <td>Non Reactive</td>\n",
       "      <td>Non Reactive</td>\n",
       "      <td>Non Reactive</td>\n",
       "      <td>...</td>\n",
       "      <td>No</td>\n",
       "      <td>No</td>\n",
       "      <td>No</td>\n",
       "      <td>No</td>\n",
       "      <td>Male</td>\n",
       "      <td>Normal Birth Weight</td>\n",
       "      <td>Alive</td>\n",
       "      <td>0-20</td>\n",
       "      <td>2-2</td>\n",
       "      <td>0-0</td>\n",
       "    </tr>\n",
       "    <tr>\n",
       "      <th>3</th>\n",
       "      <td>19.0</td>\n",
       "      <td>Secondary</td>\n",
       "      <td>Self employed</td>\n",
       "      <td>1.0</td>\n",
       "      <td>0.0</td>\n",
       "      <td>2.000000</td>\n",
       "      <td>8.600000</td>\n",
       "      <td>Non Reactive</td>\n",
       "      <td>Non Reactive</td>\n",
       "      <td>Non Reactive</td>\n",
       "      <td>...</td>\n",
       "      <td>No</td>\n",
       "      <td>No</td>\n",
       "      <td>No</td>\n",
       "      <td>No</td>\n",
       "      <td>Female</td>\n",
       "      <td>Low Birth Weight</td>\n",
       "      <td>Alive</td>\n",
       "      <td>0-20</td>\n",
       "      <td>1-1</td>\n",
       "      <td>0-0</td>\n",
       "    </tr>\n",
       "    <tr>\n",
       "      <th>4</th>\n",
       "      <td>32.0</td>\n",
       "      <td>Tertiary</td>\n",
       "      <td>Civil Servant</td>\n",
       "      <td>4.0</td>\n",
       "      <td>3.0</td>\n",
       "      <td>8.000000</td>\n",
       "      <td>11.500000</td>\n",
       "      <td>Non Reactive</td>\n",
       "      <td>Non Reactive</td>\n",
       "      <td>Non Reactive</td>\n",
       "      <td>...</td>\n",
       "      <td>No</td>\n",
       "      <td>No</td>\n",
       "      <td>No</td>\n",
       "      <td>No</td>\n",
       "      <td>Male</td>\n",
       "      <td>Normal Birth Weight</td>\n",
       "      <td>Alive</td>\n",
       "      <td>21-35</td>\n",
       "      <td>3-9</td>\n",
       "      <td>2-9</td>\n",
       "    </tr>\n",
       "  </tbody>\n",
       "</table>\n",
       "<p>5 rows × 27 columns</p>\n",
       "</div>"
      ],
      "text/plain": [
       "   MATERNALAGE LEVELOFEDUCATION     OCCUPATION  GRAVIDITY  PARITY  \\\n",
       "0         18.0        Secondary  Self employed        1.0     0.0   \n",
       "1         31.0       Illiterate     Unemployed        3.0     2.0   \n",
       "2         20.0        Secondary     Unemployed        2.0     0.0   \n",
       "3         19.0        Secondary  Self employed        1.0     0.0   \n",
       "4         32.0         Tertiary  Civil Servant        4.0     3.0   \n",
       "\n",
       "   NO.ANTENALVISITS  HB_Delivery HEPATITISBSTATUS SYPHILLISSTATUS  \\\n",
       "0         11.000000    10.598487     Non Reactive    Non Reactive   \n",
       "1          7.113177    10.598487     Non Reactive    Non Reactive   \n",
       "2          4.000000    10.900000     Non Reactive    Non Reactive   \n",
       "3          2.000000     8.600000     Non Reactive    Non Reactive   \n",
       "4          8.000000    11.500000     Non Reactive    Non Reactive   \n",
       "\n",
       "    RETROSTATUS  ... AntepartumHemorrhage  Postpartumhemorrhage ECLAMPSIA  \\\n",
       "0  Non Reactive  ...                   No                    No        No   \n",
       "1  Non Reactive  ...                   No                    No        No   \n",
       "2  Non Reactive  ...                   No                    No        No   \n",
       "3  Non Reactive  ...                   No                    No        No   \n",
       "4  Non Reactive  ...                   No                    No        No   \n",
       "\n",
       "  SEVEREPREECLAMPSIA  BABYSEX       LOWBIRTHWEIGHT NEONATALOUTCOME  \\\n",
       "0                 No     Male  Normal Birth Weight           Alive   \n",
       "1                 No     Male  Normal Birth Weight           Alive   \n",
       "2                 No     Male  Normal Birth Weight           Alive   \n",
       "3                 No   Female     Low Birth Weight           Alive   \n",
       "4                 No     Male  Normal Birth Weight           Alive   \n",
       "\n",
       "  CAT_MATERNALAGE CAT_GRAVIDITY CAT_PARITY  \n",
       "0            0-20           1-1        0-0  \n",
       "1           21-35           3-9        2-9  \n",
       "2            0-20           2-2        0-0  \n",
       "3            0-20           1-1        0-0  \n",
       "4           21-35           3-9        2-9  \n",
       "\n",
       "[5 rows x 27 columns]"
      ]
     },
     "execution_count": 5,
     "metadata": {},
     "output_type": "execute_result"
    }
   ],
   "source": [
    "df.head()"
   ]
  },
  {
   "cell_type": "markdown",
   "id": "af125c98",
   "metadata": {},
   "source": [
    "***let's get the target label 'LOWBIRTHWEIGHT' separate from the other features***"
   ]
  },
  {
   "cell_type": "code",
   "execution_count": 6,
   "id": "dc06c9d6",
   "metadata": {},
   "outputs": [],
   "source": [
    "# Get your X and Y data\n",
    "Y = df['LOWBIRTHWEIGHT']\n",
    "\n",
    "X = df.drop('LOWBIRTHWEIGHT', axis=1)"
   ]
  },
  {
   "cell_type": "markdown",
   "id": "42e73c74",
   "metadata": {},
   "source": [
    "Let's check and encode the target values to 0 and 1"
   ]
  },
  {
   "cell_type": "code",
   "execution_count": 7,
   "id": "55df7282",
   "metadata": {},
   "outputs": [
    {
     "data": {
      "text/plain": [
       "(array(['Low Birth Weight', 'Normal Birth Weight'], dtype=object),\n",
       " array([ 286, 1070], dtype=int64))"
      ]
     },
     "execution_count": 7,
     "metadata": {},
     "output_type": "execute_result"
    }
   ],
   "source": [
    "np.unique(Y, return_counts=True)"
   ]
  },
  {
   "cell_type": "code",
   "execution_count": 8,
   "id": "22de6bf8",
   "metadata": {},
   "outputs": [],
   "source": [
    "replacement = [0, 1]\n",
    "Y = Y.replace(dict(zip(Y.unique(), replacement)))"
   ]
  },
  {
   "cell_type": "code",
   "execution_count": 9,
   "id": "4f7584c3",
   "metadata": {},
   "outputs": [
    {
     "data": {
      "text/plain": [
       "array([0, 1], dtype=int64)"
      ]
     },
     "execution_count": 9,
     "metadata": {},
     "output_type": "execute_result"
    }
   ],
   "source": [
    "Y.unique()"
   ]
  },
  {
   "cell_type": "markdown",
   "id": "c0aaac29",
   "metadata": {},
   "source": [
    "## Normalization and One-Hot Encoding\n",
    "\n"
   ]
  },
  {
   "cell_type": "markdown",
   "id": "1c81667f",
   "metadata": {},
   "source": [
    "***Normalizing Categorical Features Through One-Hot Encoding***"
   ]
  },
  {
   "cell_type": "code",
   "execution_count": 10,
   "id": "efb758ef",
   "metadata": {},
   "outputs": [],
   "source": [
    "numerical_columns = X.select_dtypes(include=['number']).columns\n",
    "categorical_columns = X.select_dtypes(exclude=['number']).columns"
   ]
  },
  {
   "cell_type": "code",
   "execution_count": 11,
   "id": "1b3db5b0",
   "metadata": {},
   "outputs": [],
   "source": [
    "# Let's Categorize the Columns as either a Categorical Column or Numberical Column\n",
    "categorical_columns = ['CAT_MATERNALAGE', 'LEVELOFEDUCATION', 'OCCUPATION', 'CAT_GRAVIDITY', 'CAT_PARITY',\n",
    "             'HEPATITISBSTATUS', 'SYPHILLISSTATUS', 'RETROSTATUS', 'BLOODGROUP', \n",
    "             'PTDlt37WEEKS', 'MODEOFDELIVERY', 'MATERNALOUTCOME', 'AntepartumHemorrhage', 'Postpartumhemorrhage', \n",
    "             'ECLAMPSIA', 'SEVEREPREECLAMPSIA', 'BABYSEX', 'NEONATALOUTCOME']\n",
    "\n",
    "numerical_columns = ['MATERNALAGE', 'GRAVIDITY', 'PARITY', 'NO.ANTENALVISITS', 'HB_Delivery', 'GESTATIONALAGE', \n",
    "               'SBPBEFOREDELIVERY', 'DBPBEFOREDELIVERY']\n"
   ]
  },
  {
   "cell_type": "code",
   "execution_count": 12,
   "id": "015838aa",
   "metadata": {},
   "outputs": [
    {
     "data": {
      "text/html": [
       "<div>\n",
       "<style scoped>\n",
       "    .dataframe tbody tr th:only-of-type {\n",
       "        vertical-align: middle;\n",
       "    }\n",
       "\n",
       "    .dataframe tbody tr th {\n",
       "        vertical-align: top;\n",
       "    }\n",
       "\n",
       "    .dataframe thead th {\n",
       "        text-align: right;\n",
       "    }\n",
       "</style>\n",
       "<table border=\"1\" class=\"dataframe\">\n",
       "  <thead>\n",
       "    <tr style=\"text-align: right;\">\n",
       "      <th></th>\n",
       "      <th>MATERNALAGE</th>\n",
       "      <th>GRAVIDITY</th>\n",
       "      <th>PARITY</th>\n",
       "      <th>NO.ANTENALVISITS</th>\n",
       "      <th>HB_Delivery</th>\n",
       "      <th>GESTATIONALAGE</th>\n",
       "      <th>SBPBEFOREDELIVERY</th>\n",
       "      <th>DBPBEFOREDELIVERY</th>\n",
       "      <th>CAT_MATERNALAGE_0-20</th>\n",
       "      <th>CAT_MATERNALAGE_21-35</th>\n",
       "      <th>...</th>\n",
       "      <th>Postpartumhemorrhage_No</th>\n",
       "      <th>Postpartumhemorrhage_Yes</th>\n",
       "      <th>ECLAMPSIA_No</th>\n",
       "      <th>ECLAMPSIA_Yes</th>\n",
       "      <th>SEVEREPREECLAMPSIA_No</th>\n",
       "      <th>SEVEREPREECLAMPSIA_Yes</th>\n",
       "      <th>BABYSEX_Female</th>\n",
       "      <th>BABYSEX_Male</th>\n",
       "      <th>NEONATALOUTCOME_Alive</th>\n",
       "      <th>NEONATALOUTCOME_Dead</th>\n",
       "    </tr>\n",
       "  </thead>\n",
       "  <tbody>\n",
       "    <tr>\n",
       "      <th>0</th>\n",
       "      <td>18.0</td>\n",
       "      <td>1.0</td>\n",
       "      <td>0.0</td>\n",
       "      <td>11.000000</td>\n",
       "      <td>10.598487</td>\n",
       "      <td>39</td>\n",
       "      <td>90.0</td>\n",
       "      <td>60.0</td>\n",
       "      <td>1</td>\n",
       "      <td>0</td>\n",
       "      <td>...</td>\n",
       "      <td>1</td>\n",
       "      <td>0</td>\n",
       "      <td>1</td>\n",
       "      <td>0</td>\n",
       "      <td>1</td>\n",
       "      <td>0</td>\n",
       "      <td>0</td>\n",
       "      <td>1</td>\n",
       "      <td>1</td>\n",
       "      <td>0</td>\n",
       "    </tr>\n",
       "    <tr>\n",
       "      <th>1</th>\n",
       "      <td>31.0</td>\n",
       "      <td>3.0</td>\n",
       "      <td>2.0</td>\n",
       "      <td>7.113177</td>\n",
       "      <td>10.598487</td>\n",
       "      <td>38</td>\n",
       "      <td>110.0</td>\n",
       "      <td>80.0</td>\n",
       "      <td>0</td>\n",
       "      <td>1</td>\n",
       "      <td>...</td>\n",
       "      <td>1</td>\n",
       "      <td>0</td>\n",
       "      <td>1</td>\n",
       "      <td>0</td>\n",
       "      <td>1</td>\n",
       "      <td>0</td>\n",
       "      <td>0</td>\n",
       "      <td>1</td>\n",
       "      <td>1</td>\n",
       "      <td>0</td>\n",
       "    </tr>\n",
       "    <tr>\n",
       "      <th>2</th>\n",
       "      <td>20.0</td>\n",
       "      <td>2.0</td>\n",
       "      <td>0.0</td>\n",
       "      <td>4.000000</td>\n",
       "      <td>10.900000</td>\n",
       "      <td>38</td>\n",
       "      <td>100.0</td>\n",
       "      <td>70.0</td>\n",
       "      <td>1</td>\n",
       "      <td>0</td>\n",
       "      <td>...</td>\n",
       "      <td>1</td>\n",
       "      <td>0</td>\n",
       "      <td>1</td>\n",
       "      <td>0</td>\n",
       "      <td>1</td>\n",
       "      <td>0</td>\n",
       "      <td>0</td>\n",
       "      <td>1</td>\n",
       "      <td>1</td>\n",
       "      <td>0</td>\n",
       "    </tr>\n",
       "    <tr>\n",
       "      <th>3</th>\n",
       "      <td>19.0</td>\n",
       "      <td>1.0</td>\n",
       "      <td>0.0</td>\n",
       "      <td>2.000000</td>\n",
       "      <td>8.600000</td>\n",
       "      <td>38</td>\n",
       "      <td>100.0</td>\n",
       "      <td>70.0</td>\n",
       "      <td>1</td>\n",
       "      <td>0</td>\n",
       "      <td>...</td>\n",
       "      <td>1</td>\n",
       "      <td>0</td>\n",
       "      <td>1</td>\n",
       "      <td>0</td>\n",
       "      <td>1</td>\n",
       "      <td>0</td>\n",
       "      <td>1</td>\n",
       "      <td>0</td>\n",
       "      <td>1</td>\n",
       "      <td>0</td>\n",
       "    </tr>\n",
       "    <tr>\n",
       "      <th>4</th>\n",
       "      <td>32.0</td>\n",
       "      <td>4.0</td>\n",
       "      <td>3.0</td>\n",
       "      <td>8.000000</td>\n",
       "      <td>11.500000</td>\n",
       "      <td>39</td>\n",
       "      <td>127.0</td>\n",
       "      <td>70.0</td>\n",
       "      <td>0</td>\n",
       "      <td>1</td>\n",
       "      <td>...</td>\n",
       "      <td>1</td>\n",
       "      <td>0</td>\n",
       "      <td>1</td>\n",
       "      <td>0</td>\n",
       "      <td>1</td>\n",
       "      <td>0</td>\n",
       "      <td>0</td>\n",
       "      <td>1</td>\n",
       "      <td>1</td>\n",
       "      <td>0</td>\n",
       "    </tr>\n",
       "  </tbody>\n",
       "</table>\n",
       "<p>5 rows × 57 columns</p>\n",
       "</div>"
      ],
      "text/plain": [
       "   MATERNALAGE  GRAVIDITY  PARITY  NO.ANTENALVISITS  HB_Delivery  \\\n",
       "0         18.0        1.0     0.0         11.000000    10.598487   \n",
       "1         31.0        3.0     2.0          7.113177    10.598487   \n",
       "2         20.0        2.0     0.0          4.000000    10.900000   \n",
       "3         19.0        1.0     0.0          2.000000     8.600000   \n",
       "4         32.0        4.0     3.0          8.000000    11.500000   \n",
       "\n",
       "   GESTATIONALAGE  SBPBEFOREDELIVERY  DBPBEFOREDELIVERY  CAT_MATERNALAGE_0-20  \\\n",
       "0              39               90.0               60.0                     1   \n",
       "1              38              110.0               80.0                     0   \n",
       "2              38              100.0               70.0                     1   \n",
       "3              38              100.0               70.0                     1   \n",
       "4              39              127.0               70.0                     0   \n",
       "\n",
       "   CAT_MATERNALAGE_21-35  ...  Postpartumhemorrhage_No  \\\n",
       "0                      0  ...                        1   \n",
       "1                      1  ...                        1   \n",
       "2                      0  ...                        1   \n",
       "3                      0  ...                        1   \n",
       "4                      1  ...                        1   \n",
       "\n",
       "   Postpartumhemorrhage_Yes  ECLAMPSIA_No  ECLAMPSIA_Yes  \\\n",
       "0                         0             1              0   \n",
       "1                         0             1              0   \n",
       "2                         0             1              0   \n",
       "3                         0             1              0   \n",
       "4                         0             1              0   \n",
       "\n",
       "   SEVEREPREECLAMPSIA_No  SEVEREPREECLAMPSIA_Yes  BABYSEX_Female  \\\n",
       "0                      1                       0               0   \n",
       "1                      1                       0               0   \n",
       "2                      1                       0               0   \n",
       "3                      1                       0               1   \n",
       "4                      1                       0               0   \n",
       "\n",
       "   BABYSEX_Male  NEONATALOUTCOME_Alive  NEONATALOUTCOME_Dead  \n",
       "0             1                      1                     0  \n",
       "1             1                      1                     0  \n",
       "2             1                      1                     0  \n",
       "3             0                      1                     0  \n",
       "4             1                      1                     0  \n",
       "\n",
       "[5 rows x 57 columns]"
      ]
     },
     "execution_count": 12,
     "metadata": {},
     "output_type": "execute_result"
    }
   ],
   "source": [
    "# Let's use get_dummies to create our one-hot encoded values\n",
    "X_encoded = pd.get_dummies(X, columns=categorical_columns)\n",
    "X_encoded.head()"
   ]
  },
  {
   "cell_type": "markdown",
   "id": "2bc4016d",
   "metadata": {},
   "source": [
    "This extends the number of columns from 25 to 51\n",
    "\n",
    "***Normalizing Numerical Features***"
   ]
  },
  {
   "cell_type": "code",
   "execution_count": 13,
   "id": "4f786b78",
   "metadata": {},
   "outputs": [
    {
     "data": {
      "text/html": [
       "<div>\n",
       "<style scoped>\n",
       "    .dataframe tbody tr th:only-of-type {\n",
       "        vertical-align: middle;\n",
       "    }\n",
       "\n",
       "    .dataframe tbody tr th {\n",
       "        vertical-align: top;\n",
       "    }\n",
       "\n",
       "    .dataframe thead th {\n",
       "        text-align: right;\n",
       "    }\n",
       "</style>\n",
       "<table border=\"1\" class=\"dataframe\">\n",
       "  <thead>\n",
       "    <tr style=\"text-align: right;\">\n",
       "      <th></th>\n",
       "      <th>MATERNALAGE</th>\n",
       "      <th>GRAVIDITY</th>\n",
       "      <th>PARITY</th>\n",
       "      <th>NO.ANTENALVISITS</th>\n",
       "      <th>HB_Delivery</th>\n",
       "      <th>GESTATIONALAGE</th>\n",
       "      <th>SBPBEFOREDELIVERY</th>\n",
       "      <th>DBPBEFOREDELIVERY</th>\n",
       "      <th>CAT_MATERNALAGE_0-20</th>\n",
       "      <th>CAT_MATERNALAGE_21-35</th>\n",
       "      <th>...</th>\n",
       "      <th>Postpartumhemorrhage_No</th>\n",
       "      <th>Postpartumhemorrhage_Yes</th>\n",
       "      <th>ECLAMPSIA_No</th>\n",
       "      <th>ECLAMPSIA_Yes</th>\n",
       "      <th>SEVEREPREECLAMPSIA_No</th>\n",
       "      <th>SEVEREPREECLAMPSIA_Yes</th>\n",
       "      <th>BABYSEX_Female</th>\n",
       "      <th>BABYSEX_Male</th>\n",
       "      <th>NEONATALOUTCOME_Alive</th>\n",
       "      <th>NEONATALOUTCOME_Dead</th>\n",
       "    </tr>\n",
       "  </thead>\n",
       "  <tbody>\n",
       "    <tr>\n",
       "      <th>0</th>\n",
       "      <td>0.135135</td>\n",
       "      <td>0.000000</td>\n",
       "      <td>0.000</td>\n",
       "      <td>0.687500</td>\n",
       "      <td>0.082588</td>\n",
       "      <td>0.764706</td>\n",
       "      <td>0.417989</td>\n",
       "      <td>0.253012</td>\n",
       "      <td>1</td>\n",
       "      <td>0</td>\n",
       "      <td>...</td>\n",
       "      <td>1</td>\n",
       "      <td>0</td>\n",
       "      <td>1</td>\n",
       "      <td>0</td>\n",
       "      <td>1</td>\n",
       "      <td>0</td>\n",
       "      <td>0</td>\n",
       "      <td>1</td>\n",
       "      <td>1</td>\n",
       "      <td>0</td>\n",
       "    </tr>\n",
       "    <tr>\n",
       "      <th>1</th>\n",
       "      <td>0.486486</td>\n",
       "      <td>0.285714</td>\n",
       "      <td>0.250</td>\n",
       "      <td>0.444574</td>\n",
       "      <td>0.082588</td>\n",
       "      <td>0.705882</td>\n",
       "      <td>0.523810</td>\n",
       "      <td>0.373494</td>\n",
       "      <td>0</td>\n",
       "      <td>1</td>\n",
       "      <td>...</td>\n",
       "      <td>1</td>\n",
       "      <td>0</td>\n",
       "      <td>1</td>\n",
       "      <td>0</td>\n",
       "      <td>1</td>\n",
       "      <td>0</td>\n",
       "      <td>0</td>\n",
       "      <td>1</td>\n",
       "      <td>1</td>\n",
       "      <td>0</td>\n",
       "    </tr>\n",
       "    <tr>\n",
       "      <th>2</th>\n",
       "      <td>0.189189</td>\n",
       "      <td>0.142857</td>\n",
       "      <td>0.000</td>\n",
       "      <td>0.250000</td>\n",
       "      <td>0.085237</td>\n",
       "      <td>0.705882</td>\n",
       "      <td>0.470899</td>\n",
       "      <td>0.313253</td>\n",
       "      <td>1</td>\n",
       "      <td>0</td>\n",
       "      <td>...</td>\n",
       "      <td>1</td>\n",
       "      <td>0</td>\n",
       "      <td>1</td>\n",
       "      <td>0</td>\n",
       "      <td>1</td>\n",
       "      <td>0</td>\n",
       "      <td>0</td>\n",
       "      <td>1</td>\n",
       "      <td>1</td>\n",
       "      <td>0</td>\n",
       "    </tr>\n",
       "    <tr>\n",
       "      <th>3</th>\n",
       "      <td>0.162162</td>\n",
       "      <td>0.000000</td>\n",
       "      <td>0.000</td>\n",
       "      <td>0.125000</td>\n",
       "      <td>0.065026</td>\n",
       "      <td>0.705882</td>\n",
       "      <td>0.470899</td>\n",
       "      <td>0.313253</td>\n",
       "      <td>1</td>\n",
       "      <td>0</td>\n",
       "      <td>...</td>\n",
       "      <td>1</td>\n",
       "      <td>0</td>\n",
       "      <td>1</td>\n",
       "      <td>0</td>\n",
       "      <td>1</td>\n",
       "      <td>0</td>\n",
       "      <td>1</td>\n",
       "      <td>0</td>\n",
       "      <td>1</td>\n",
       "      <td>0</td>\n",
       "    </tr>\n",
       "    <tr>\n",
       "      <th>4</th>\n",
       "      <td>0.513514</td>\n",
       "      <td>0.428571</td>\n",
       "      <td>0.375</td>\n",
       "      <td>0.500000</td>\n",
       "      <td>0.090510</td>\n",
       "      <td>0.764706</td>\n",
       "      <td>0.613757</td>\n",
       "      <td>0.313253</td>\n",
       "      <td>0</td>\n",
       "      <td>1</td>\n",
       "      <td>...</td>\n",
       "      <td>1</td>\n",
       "      <td>0</td>\n",
       "      <td>1</td>\n",
       "      <td>0</td>\n",
       "      <td>1</td>\n",
       "      <td>0</td>\n",
       "      <td>0</td>\n",
       "      <td>1</td>\n",
       "      <td>1</td>\n",
       "      <td>0</td>\n",
       "    </tr>\n",
       "  </tbody>\n",
       "</table>\n",
       "<p>5 rows × 57 columns</p>\n",
       "</div>"
      ],
      "text/plain": [
       "   MATERNALAGE  GRAVIDITY  PARITY  NO.ANTENALVISITS  HB_Delivery  \\\n",
       "0     0.135135   0.000000   0.000          0.687500     0.082588   \n",
       "1     0.486486   0.285714   0.250          0.444574     0.082588   \n",
       "2     0.189189   0.142857   0.000          0.250000     0.085237   \n",
       "3     0.162162   0.000000   0.000          0.125000     0.065026   \n",
       "4     0.513514   0.428571   0.375          0.500000     0.090510   \n",
       "\n",
       "   GESTATIONALAGE  SBPBEFOREDELIVERY  DBPBEFOREDELIVERY  CAT_MATERNALAGE_0-20  \\\n",
       "0        0.764706           0.417989           0.253012                     1   \n",
       "1        0.705882           0.523810           0.373494                     0   \n",
       "2        0.705882           0.470899           0.313253                     1   \n",
       "3        0.705882           0.470899           0.313253                     1   \n",
       "4        0.764706           0.613757           0.313253                     0   \n",
       "\n",
       "   CAT_MATERNALAGE_21-35  ...  Postpartumhemorrhage_No  \\\n",
       "0                      0  ...                        1   \n",
       "1                      1  ...                        1   \n",
       "2                      0  ...                        1   \n",
       "3                      0  ...                        1   \n",
       "4                      1  ...                        1   \n",
       "\n",
       "   Postpartumhemorrhage_Yes  ECLAMPSIA_No  ECLAMPSIA_Yes  \\\n",
       "0                         0             1              0   \n",
       "1                         0             1              0   \n",
       "2                         0             1              0   \n",
       "3                         0             1              0   \n",
       "4                         0             1              0   \n",
       "\n",
       "   SEVEREPREECLAMPSIA_No  SEVEREPREECLAMPSIA_Yes  BABYSEX_Female  \\\n",
       "0                      1                       0               0   \n",
       "1                      1                       0               0   \n",
       "2                      1                       0               0   \n",
       "3                      1                       0               1   \n",
       "4                      1                       0               0   \n",
       "\n",
       "   BABYSEX_Male  NEONATALOUTCOME_Alive  NEONATALOUTCOME_Dead  \n",
       "0             1                      1                     0  \n",
       "1             1                      1                     0  \n",
       "2             1                      1                     0  \n",
       "3             0                      1                     0  \n",
       "4             1                      1                     0  \n",
       "\n",
       "[5 rows x 57 columns]"
      ]
     },
     "execution_count": 13,
     "metadata": {},
     "output_type": "execute_result"
    }
   ],
   "source": [
    "# First we create a Min-Max Scaler for scaling\n",
    "scaler = MinMaxScaler()\n",
    "X_encoded[numerical_columns] = scaler.fit_transform(df[numerical_columns])\n",
    "\n",
    "X_encoded.head()"
   ]
  },
  {
   "cell_type": "code",
   "execution_count": 14,
   "id": "9b9ec1a4",
   "metadata": {},
   "outputs": [],
   "source": [
    "X_train, X_test, Y_train, Y_test = train_test_split(X_encoded, Y, test_size=0.3, random_state=2)"
   ]
  },
  {
   "cell_type": "code",
   "execution_count": 15,
   "id": "9c259794",
   "metadata": {},
   "outputs": [
    {
     "data": {
      "text/plain": [
       "((949, 57), (949,), (407, 57), (407,))"
      ]
     },
     "execution_count": 15,
     "metadata": {},
     "output_type": "execute_result"
    }
   ],
   "source": [
    "X_train.shape, Y_train.shape, X_test.shape, Y_test.shape"
   ]
  },
  {
   "cell_type": "markdown",
   "id": "61538328",
   "metadata": {},
   "source": [
    "Let's find how many unique values are in the target labels"
   ]
  },
  {
   "cell_type": "code",
   "execution_count": 16,
   "id": "6b045bcb",
   "metadata": {},
   "outputs": [
    {
     "data": {
      "text/plain": [
       "((array([0, 1], dtype=int64), array([752, 197], dtype=int64)),\n",
       " (array([0, 1], dtype=int64), array([318,  89], dtype=int64)))"
      ]
     },
     "execution_count": 16,
     "metadata": {},
     "output_type": "execute_result"
    }
   ],
   "source": [
    "np.unique(Y_train, return_counts=True), np.unique(Y_test, return_counts=True)"
   ]
  },
  {
   "cell_type": "markdown",
   "id": "554c438a",
   "metadata": {},
   "source": [
    "## Model Training: LogisticRegression"
   ]
  },
  {
   "cell_type": "code",
   "execution_count": 17,
   "id": "94cc23c4",
   "metadata": {},
   "outputs": [],
   "source": [
    "model = LogisticRegression(penalty='l2', C=0.5, max_iter=1000)"
   ]
  },
  {
   "cell_type": "code",
   "execution_count": 18,
   "id": "40902188",
   "metadata": {},
   "outputs": [
    {
     "data": {
      "text/html": [
       "<style>#sk-container-id-1 {color: black;background-color: white;}#sk-container-id-1 pre{padding: 0;}#sk-container-id-1 div.sk-toggleable {background-color: white;}#sk-container-id-1 label.sk-toggleable__label {cursor: pointer;display: block;width: 100%;margin-bottom: 0;padding: 0.3em;box-sizing: border-box;text-align: center;}#sk-container-id-1 label.sk-toggleable__label-arrow:before {content: \"▸\";float: left;margin-right: 0.25em;color: #696969;}#sk-container-id-1 label.sk-toggleable__label-arrow:hover:before {color: black;}#sk-container-id-1 div.sk-estimator:hover label.sk-toggleable__label-arrow:before {color: black;}#sk-container-id-1 div.sk-toggleable__content {max-height: 0;max-width: 0;overflow: hidden;text-align: left;background-color: #f0f8ff;}#sk-container-id-1 div.sk-toggleable__content pre {margin: 0.2em;color: black;border-radius: 0.25em;background-color: #f0f8ff;}#sk-container-id-1 input.sk-toggleable__control:checked~div.sk-toggleable__content {max-height: 200px;max-width: 100%;overflow: auto;}#sk-container-id-1 input.sk-toggleable__control:checked~label.sk-toggleable__label-arrow:before {content: \"▾\";}#sk-container-id-1 div.sk-estimator input.sk-toggleable__control:checked~label.sk-toggleable__label {background-color: #d4ebff;}#sk-container-id-1 div.sk-label input.sk-toggleable__control:checked~label.sk-toggleable__label {background-color: #d4ebff;}#sk-container-id-1 input.sk-hidden--visually {border: 0;clip: rect(1px 1px 1px 1px);clip: rect(1px, 1px, 1px, 1px);height: 1px;margin: -1px;overflow: hidden;padding: 0;position: absolute;width: 1px;}#sk-container-id-1 div.sk-estimator {font-family: monospace;background-color: #f0f8ff;border: 1px dotted black;border-radius: 0.25em;box-sizing: border-box;margin-bottom: 0.5em;}#sk-container-id-1 div.sk-estimator:hover {background-color: #d4ebff;}#sk-container-id-1 div.sk-parallel-item::after {content: \"\";width: 100%;border-bottom: 1px solid gray;flex-grow: 1;}#sk-container-id-1 div.sk-label:hover label.sk-toggleable__label {background-color: #d4ebff;}#sk-container-id-1 div.sk-serial::before {content: \"\";position: absolute;border-left: 1px solid gray;box-sizing: border-box;top: 0;bottom: 0;left: 50%;z-index: 0;}#sk-container-id-1 div.sk-serial {display: flex;flex-direction: column;align-items: center;background-color: white;padding-right: 0.2em;padding-left: 0.2em;position: relative;}#sk-container-id-1 div.sk-item {position: relative;z-index: 1;}#sk-container-id-1 div.sk-parallel {display: flex;align-items: stretch;justify-content: center;background-color: white;position: relative;}#sk-container-id-1 div.sk-item::before, #sk-container-id-1 div.sk-parallel-item::before {content: \"\";position: absolute;border-left: 1px solid gray;box-sizing: border-box;top: 0;bottom: 0;left: 50%;z-index: -1;}#sk-container-id-1 div.sk-parallel-item {display: flex;flex-direction: column;z-index: 1;position: relative;background-color: white;}#sk-container-id-1 div.sk-parallel-item:first-child::after {align-self: flex-end;width: 50%;}#sk-container-id-1 div.sk-parallel-item:last-child::after {align-self: flex-start;width: 50%;}#sk-container-id-1 div.sk-parallel-item:only-child::after {width: 0;}#sk-container-id-1 div.sk-dashed-wrapped {border: 1px dashed gray;margin: 0 0.4em 0.5em 0.4em;box-sizing: border-box;padding-bottom: 0.4em;background-color: white;}#sk-container-id-1 div.sk-label label {font-family: monospace;font-weight: bold;display: inline-block;line-height: 1.2em;}#sk-container-id-1 div.sk-label-container {text-align: center;}#sk-container-id-1 div.sk-container {/* jupyter's `normalize.less` sets `[hidden] { display: none; }` but bootstrap.min.css set `[hidden] { display: none !important; }` so we also need the `!important` here to be able to override the default hidden behavior on the sphinx rendered scikit-learn.org. See: https://github.com/scikit-learn/scikit-learn/issues/21755 */display: inline-block !important;position: relative;}#sk-container-id-1 div.sk-text-repr-fallback {display: none;}</style><div id=\"sk-container-id-1\" class=\"sk-top-container\"><div class=\"sk-text-repr-fallback\"><pre>LogisticRegression(C=0.5, max_iter=1000)</pre><b>In a Jupyter environment, please rerun this cell to show the HTML representation or trust the notebook. <br />On GitHub, the HTML representation is unable to render, please try loading this page with nbviewer.org.</b></div><div class=\"sk-container\" hidden><div class=\"sk-item\"><div class=\"sk-estimator sk-toggleable\"><input class=\"sk-toggleable__control sk-hidden--visually\" id=\"sk-estimator-id-1\" type=\"checkbox\" checked><label for=\"sk-estimator-id-1\" class=\"sk-toggleable__label sk-toggleable__label-arrow\">LogisticRegression</label><div class=\"sk-toggleable__content\"><pre>LogisticRegression(C=0.5, max_iter=1000)</pre></div></div></div></div></div>"
      ],
      "text/plain": [
       "LogisticRegression(C=0.5, max_iter=1000)"
      ]
     },
     "execution_count": 18,
     "metadata": {},
     "output_type": "execute_result"
    }
   ],
   "source": [
    "model.fit(X_train, Y_train)"
   ]
  },
  {
   "cell_type": "code",
   "execution_count": 19,
   "id": "2029a0d3",
   "metadata": {},
   "outputs": [
    {
     "data": {
      "text/plain": [
       "(0.8229715489989463, 0.8132678132678133)"
      ]
     },
     "execution_count": 19,
     "metadata": {},
     "output_type": "execute_result"
    }
   ],
   "source": [
    "model.score(X_train, Y_train), model.score(X_test, Y_test)"
   ]
  },
  {
   "cell_type": "markdown",
   "id": "d575fdb6",
   "metadata": {},
   "source": [
    "### Checking The Model's Sensitivity And Specificity\n",
    "\n",
    "Let's create a function to check the sensitivity and specificity "
   ]
  },
  {
   "cell_type": "code",
   "execution_count": 20,
   "id": "d2d30cca",
   "metadata": {},
   "outputs": [],
   "source": [
    "def evaluation_score(labels, predictions):  \n",
    "    sensitivity = 0.0\n",
    "    specificity = 0.0\n",
    "\n",
    "\n",
    "    #Get the number of positive values and negative values\n",
    "    numNeg, numPos = labels.value_counts()\n",
    "\n",
    "    #Go through labels and predictions to calculate sentivity and specificity\n",
    "    for label, prediction in zip(labels, predictions):\n",
    "        if prediction == label and label == 1:\n",
    "            sensitivity = sensitivity + 1\n",
    "        elif prediction == label and label == 0:\n",
    "            specificity = specificity + 1\n",
    "        else:\n",
    "            continue\n",
    "\n",
    "    #Divide by length so both sensitivty and specificty are between 0 to 1\n",
    "    sensitivity = sensitivity / numPos\n",
    "    specificity = specificity / numNeg \n",
    "\n",
    "    return sensitivity, specificity"
   ]
  },
  {
   "cell_type": "code",
   "execution_count": 21,
   "id": "2d57a25a",
   "metadata": {},
   "outputs": [
    {
     "data": {
      "text/plain": [
       "(0.30337078651685395, 0.9559748427672956)"
      ]
     },
     "execution_count": 21,
     "metadata": {},
     "output_type": "execute_result"
    }
   ],
   "source": [
    "Y_predict = model.predict(X_test)\n",
    "\n",
    "evaluation_score(Y_test, Y_predict)"
   ]
  },
  {
   "cell_type": "markdown",
   "id": "002116d4",
   "metadata": {},
   "source": [
    "Our LogisticRegression model has a sensitivity of 30.34% with a specificity of 95.6% \n",
    "\n",
    "With such a high specificity, the model is quite good. Were it to be deployed in hospitals, it could help doctors quickly determine women who are at a lesser risk of delivering an LBW child. This can allow doctors and nurses more adequately focus their attention on women who need their help. "
   ]
  },
  {
   "cell_type": "code",
   "execution_count": 22,
   "id": "621b9400",
   "metadata": {},
   "outputs": [
    {
     "data": {
      "text/plain": [
       "(0.22842639593908629, 0.9787234042553191)"
      ]
     },
     "execution_count": 22,
     "metadata": {},
     "output_type": "execute_result"
    }
   ],
   "source": [
    "Y_train_predict = model.predict(X_train)\n",
    "evaluation_score(Y_train, Y_train_predict)"
   ]
  },
  {
   "cell_type": "markdown",
   "id": "064e5885",
   "metadata": {},
   "source": [
    "## Model Training: Support Vector Machine"
   ]
  },
  {
   "cell_type": "code",
   "execution_count": 23,
   "id": "f5db5f20",
   "metadata": {},
   "outputs": [
    {
     "data": {
      "text/html": [
       "<style>#sk-container-id-2 {color: black;background-color: white;}#sk-container-id-2 pre{padding: 0;}#sk-container-id-2 div.sk-toggleable {background-color: white;}#sk-container-id-2 label.sk-toggleable__label {cursor: pointer;display: block;width: 100%;margin-bottom: 0;padding: 0.3em;box-sizing: border-box;text-align: center;}#sk-container-id-2 label.sk-toggleable__label-arrow:before {content: \"▸\";float: left;margin-right: 0.25em;color: #696969;}#sk-container-id-2 label.sk-toggleable__label-arrow:hover:before {color: black;}#sk-container-id-2 div.sk-estimator:hover label.sk-toggleable__label-arrow:before {color: black;}#sk-container-id-2 div.sk-toggleable__content {max-height: 0;max-width: 0;overflow: hidden;text-align: left;background-color: #f0f8ff;}#sk-container-id-2 div.sk-toggleable__content pre {margin: 0.2em;color: black;border-radius: 0.25em;background-color: #f0f8ff;}#sk-container-id-2 input.sk-toggleable__control:checked~div.sk-toggleable__content {max-height: 200px;max-width: 100%;overflow: auto;}#sk-container-id-2 input.sk-toggleable__control:checked~label.sk-toggleable__label-arrow:before {content: \"▾\";}#sk-container-id-2 div.sk-estimator input.sk-toggleable__control:checked~label.sk-toggleable__label {background-color: #d4ebff;}#sk-container-id-2 div.sk-label input.sk-toggleable__control:checked~label.sk-toggleable__label {background-color: #d4ebff;}#sk-container-id-2 input.sk-hidden--visually {border: 0;clip: rect(1px 1px 1px 1px);clip: rect(1px, 1px, 1px, 1px);height: 1px;margin: -1px;overflow: hidden;padding: 0;position: absolute;width: 1px;}#sk-container-id-2 div.sk-estimator {font-family: monospace;background-color: #f0f8ff;border: 1px dotted black;border-radius: 0.25em;box-sizing: border-box;margin-bottom: 0.5em;}#sk-container-id-2 div.sk-estimator:hover {background-color: #d4ebff;}#sk-container-id-2 div.sk-parallel-item::after {content: \"\";width: 100%;border-bottom: 1px solid gray;flex-grow: 1;}#sk-container-id-2 div.sk-label:hover label.sk-toggleable__label {background-color: #d4ebff;}#sk-container-id-2 div.sk-serial::before {content: \"\";position: absolute;border-left: 1px solid gray;box-sizing: border-box;top: 0;bottom: 0;left: 50%;z-index: 0;}#sk-container-id-2 div.sk-serial {display: flex;flex-direction: column;align-items: center;background-color: white;padding-right: 0.2em;padding-left: 0.2em;position: relative;}#sk-container-id-2 div.sk-item {position: relative;z-index: 1;}#sk-container-id-2 div.sk-parallel {display: flex;align-items: stretch;justify-content: center;background-color: white;position: relative;}#sk-container-id-2 div.sk-item::before, #sk-container-id-2 div.sk-parallel-item::before {content: \"\";position: absolute;border-left: 1px solid gray;box-sizing: border-box;top: 0;bottom: 0;left: 50%;z-index: -1;}#sk-container-id-2 div.sk-parallel-item {display: flex;flex-direction: column;z-index: 1;position: relative;background-color: white;}#sk-container-id-2 div.sk-parallel-item:first-child::after {align-self: flex-end;width: 50%;}#sk-container-id-2 div.sk-parallel-item:last-child::after {align-self: flex-start;width: 50%;}#sk-container-id-2 div.sk-parallel-item:only-child::after {width: 0;}#sk-container-id-2 div.sk-dashed-wrapped {border: 1px dashed gray;margin: 0 0.4em 0.5em 0.4em;box-sizing: border-box;padding-bottom: 0.4em;background-color: white;}#sk-container-id-2 div.sk-label label {font-family: monospace;font-weight: bold;display: inline-block;line-height: 1.2em;}#sk-container-id-2 div.sk-label-container {text-align: center;}#sk-container-id-2 div.sk-container {/* jupyter's `normalize.less` sets `[hidden] { display: none; }` but bootstrap.min.css set `[hidden] { display: none !important; }` so we also need the `!important` here to be able to override the default hidden behavior on the sphinx rendered scikit-learn.org. See: https://github.com/scikit-learn/scikit-learn/issues/21755 */display: inline-block !important;position: relative;}#sk-container-id-2 div.sk-text-repr-fallback {display: none;}</style><div id=\"sk-container-id-2\" class=\"sk-top-container\"><div class=\"sk-text-repr-fallback\"><pre>SVC(kernel=&#x27;linear&#x27;)</pre><b>In a Jupyter environment, please rerun this cell to show the HTML representation or trust the notebook. <br />On GitHub, the HTML representation is unable to render, please try loading this page with nbviewer.org.</b></div><div class=\"sk-container\" hidden><div class=\"sk-item\"><div class=\"sk-estimator sk-toggleable\"><input class=\"sk-toggleable__control sk-hidden--visually\" id=\"sk-estimator-id-2\" type=\"checkbox\" checked><label for=\"sk-estimator-id-2\" class=\"sk-toggleable__label sk-toggleable__label-arrow\">SVC</label><div class=\"sk-toggleable__content\"><pre>SVC(kernel=&#x27;linear&#x27;)</pre></div></div></div></div></div>"
      ],
      "text/plain": [
       "SVC(kernel='linear')"
      ]
     },
     "execution_count": 23,
     "metadata": {},
     "output_type": "execute_result"
    }
   ],
   "source": [
    "modelsvm = SVC(kernel='linear')\n",
    "\n",
    "modelsvm.fit(X_train, Y_train)"
   ]
  },
  {
   "cell_type": "code",
   "execution_count": 24,
   "id": "0db013f0",
   "metadata": {},
   "outputs": [
    {
     "data": {
      "text/plain": [
       "(0.8071654373024236, 0.8083538083538083)"
      ]
     },
     "execution_count": 24,
     "metadata": {},
     "output_type": "execute_result"
    }
   ],
   "source": [
    "modelsvm.score(X_train, Y_train), modelsvm.score(X_test, Y_test)"
   ]
  },
  {
   "cell_type": "code",
   "execution_count": 25,
   "id": "0288fe95",
   "metadata": {},
   "outputs": [
    {
     "data": {
      "text/plain": [
       "(0.4157303370786517, 0.9182389937106918)"
      ]
     },
     "execution_count": 25,
     "metadata": {},
     "output_type": "execute_result"
    }
   ],
   "source": [
    "Y_predict = modelsvm.predict(X_test)\n",
    "\n",
    "evaluation_score(Y_test, Y_predict)"
   ]
  },
  {
   "cell_type": "code",
   "execution_count": 26,
   "id": "eb450b1f",
   "metadata": {},
   "outputs": [
    {
     "data": {
      "text/plain": [
       "(0.29441624365482233, 0.9414893617021277)"
      ]
     },
     "execution_count": 26,
     "metadata": {},
     "output_type": "execute_result"
    }
   ],
   "source": [
    "Y_train_predict = modelsvm.predict(X_train)\n",
    "evaluation_score(Y_train, Y_train_predict)"
   ]
  },
  {
   "cell_type": "markdown",
   "id": "89e1b4aa",
   "metadata": {},
   "source": [
    "Using a support vector machine, the sensitivity of our model rises to 41.57%, while the specificity still remain high at 91.82%.\n",
    "\n",
    "Without any marked reduction in the model's specificity, I believe, this is a better model than the LogisticRegression. \n",
    "\n",
    "***NOTE*** These  models appear to be less sensitive on the training set that they are on the testing set although their overall accuracy on the training set is higher."
   ]
  },
  {
   "cell_type": "code",
   "execution_count": null,
   "id": "bcc3916c",
   "metadata": {},
   "outputs": [],
   "source": []
  }
 ],
 "metadata": {
  "kernelspec": {
   "display_name": "Python 3 (ipykernel)",
   "language": "python",
   "name": "python3"
  },
  "language_info": {
   "codemirror_mode": {
    "name": "ipython",
    "version": 3
   },
   "file_extension": ".py",
   "mimetype": "text/x-python",
   "name": "python",
   "nbconvert_exporter": "python",
   "pygments_lexer": "ipython3",
   "version": "3.10.9"
  }
 },
 "nbformat": 4,
 "nbformat_minor": 5
}
